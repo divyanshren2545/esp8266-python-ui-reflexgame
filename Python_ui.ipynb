{
 "cells": [
  {
   "cell_type": "code",
   "execution_count": 2,
   "id": "7ed48c24-357d-4712-be7c-1d54b493aad9",
   "metadata": {},
   "outputs": [],
   "source": [
    "import serial\n",
    "import tkinter as tk\n",
    "from tkinter import messagebox\n",
    "\n",
    "# Update this to your ESP8266 COM port\n",
    "SERIAL_PORT = \"COM7\"\n",
    "BAUD_RATE = 9600\n",
    "\n",
    "try:\n",
    "    ser = serial.Serial(SERIAL_PORT, BAUD_RATE, timeout=1)\n",
    "except:\n",
    "    messagebox.showerror(\"Connection Error\", f\"Could not open {SERIAL_PORT}\")\n",
    "    exit()\n",
    "\n",
    "def send(cmd):\n",
    "    ser.write(cmd.encode())\n",
    "\n",
    "def read_score():\n",
    "    send('s')\n",
    "\n",
    "def on_receive():\n",
    "    if ser.in_waiting:\n",
    "        data = ser.readline().decode(errors='ignore').strip()\n",
    "        output.insert(tk.END, data + \"\\n\")\n",
    "        output.see(tk.END)\n",
    "    root.after(100, on_receive)\n",
    "\n",
    "root = tk.Tk()\n",
    "root.title(\"ESP8266 LED Game UI\")\n",
    "\n",
    "tk.Button(root, text=\"↔ Reverse\", command=lambda: send('r')).grid(row=0, column=0, padx=10, pady=5)\n",
    "tk.Button(root, text=\"⚡ Speed +\", command=lambda: send('+')).grid(row=0, column=1, padx=10)\n",
    "tk.Button(root, text=\"🐢 Speed -\", command=lambda: send('-')).grid(row=0, column=2, padx=10)\n",
    "tk.Button(root, text=\"📊 Show Score\", command=read_score).grid(row=1, column=0, padx=10, pady=5)\n",
    "tk.Button(root, text=\"🔄 Reset Score\", command=lambda: send('x')).grid(row=1, column=1, padx=10)\n",
    "\n",
    "output = tk.Text(root, height=10, width=50)\n",
    "output.grid(row=2, column=0, columnspan=3, padx=10, pady=10)\n",
    "\n",
    "on_receive()\n",
    "root.mainloop()\n"
   ]
  },
  {
   "cell_type": "code",
   "execution_count": null,
   "id": "196104c6-b934-4c36-adca-dcca2db0c66e",
   "metadata": {},
   "outputs": [],
   "source": []
  }
 ],
 "metadata": {
  "kernelspec": {
   "display_name": "Python 3 (ipykernel)",
   "language": "python",
   "name": "python3"
  },
  "language_info": {
   "codemirror_mode": {
    "name": "ipython",
    "version": 3
   },
   "file_extension": ".py",
   "mimetype": "text/x-python",
   "name": "python",
   "nbconvert_exporter": "python",
   "pygments_lexer": "ipython3",
   "version": "3.12.7"
  }
 },
 "nbformat": 4,
 "nbformat_minor": 5
}
